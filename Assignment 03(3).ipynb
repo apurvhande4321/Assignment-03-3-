{
 "cells": [
  {
   "cell_type": "markdown",
   "id": "54e32848",
   "metadata": {},
   "source": [
    "Write a Python function that accepts a string and calculate the number of upper case letters and lower case letters.\n",
    "\n",
    "\n",
    "\n"
   ]
  },
  {
   "cell_type": "code",
   "execution_count": 3,
   "id": "3beb608d",
   "metadata": {},
   "outputs": [
    {
     "name": "stdout",
     "output_type": "stream",
     "text": [
      "total Upper case  : 3\n",
      "total Lower case  : 12\n"
     ]
    }
   ],
   "source": [
    "def string(a):\n",
    "    p={\"uppercase\":0, \"lowercase\":0}\n",
    "    for c in a:\n",
    "        if c.isupper():\n",
    "            p[\"uppercase\"]+=1\n",
    "        elif c.islower():\n",
    "            p[\"lowercase\"]+=1\n",
    "        else:\n",
    "               pass\n",
    "    \n",
    "    print (\"total Upper case  :\", p[\"uppercase\"])\n",
    "    print (\"total Lower case  :\", p[\"lowercase\"])\n",
    "\n",
    "string('The quick Brow Fox')"
   ]
  },
  {
   "cell_type": "code",
   "execution_count": null,
   "id": "f955ee99",
   "metadata": {},
   "outputs": [],
   "source": []
  }
 ],
 "metadata": {
  "kernelspec": {
   "display_name": "Python 3 (ipykernel)",
   "language": "python",
   "name": "python3"
  },
  "language_info": {
   "codemirror_mode": {
    "name": "ipython",
    "version": 3
   },
   "file_extension": ".py",
   "mimetype": "text/x-python",
   "name": "python",
   "nbconvert_exporter": "python",
   "pygments_lexer": "ipython3",
   "version": "3.9.7"
  }
 },
 "nbformat": 4,
 "nbformat_minor": 5
}
